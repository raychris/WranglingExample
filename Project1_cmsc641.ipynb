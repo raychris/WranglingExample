{
 "cells": [
  {
   "cell_type": "markdown",
   "metadata": {},
   "source": [
    "## Project 1\n",
    "\n",
    "#### You've been hired by a new space weather startup looking to disrupt the space weather reporting business. \n",
    "\n",
    "#### Your first project is to provide better data about the top 50 solar flares recorded so far than that shown by your competitor."
   ]
  },
  {
   "cell_type": "markdown",
   "metadata": {},
   "source": [
    "### Part 1: Data scraping and preparation\n",
    "\n",
    "#### Step 1: Scrape and format your competitor's data\n",
    "\n",
    "#### Here I'm using requests and Beautiful Soup to get and parse data that put into a pandas dataframe"
   ]
  },
  {
   "cell_type": "code",
   "execution_count": 431,
   "metadata": {
    "scrolled": true
   },
   "outputs": [
    {
     "name": "stderr",
     "output_type": "stream",
     "text": [
      "C:\\Users\\madag\\Anaconda3\\lib\\site-packages\\bs4\\__init__.py:181: UserWarning: No parser was explicitly specified, so I'm using the best available HTML parser for this system (\"lxml\"). This usually isn't a problem, but if you run this code on another system, or in a different virtual environment, it may use a different parser and behave differently.\n",
      "\n",
      "The code that caused this warning is on line 193 of the file C:\\Users\\madag\\Anaconda3\\lib\\runpy.py. To get rid of this warning, change code that looks like this:\n",
      "\n",
      " BeautifulSoup(YOUR_MARKUP})\n",
      "\n",
      "to this:\n",
      "\n",
      " BeautifulSoup(YOUR_MARKUP, \"lxml\")\n",
      "\n",
      "  markup_type=markup_type))\n"
     ]
    }
   ],
   "source": [
    "import requests\n",
    "from bs4 import BeautifulSoup\n",
    "import pandas as pd\n",
    "\n",
    "SpaceWeatherLiveUrl = 'https://www.spaceweatherlive.com/en/solar-activity/top-50-solar-flares'\n",
    "\n",
    "SpaceWeatherResponse = requests.get(SpaceWeatherLiveUrl)\n",
    "RawSpaceWeatherResponse = SpaceWeatherResponse.text\n",
    "\n",
    "##Use BeautifulSoup to read and parse the data\n",
    "RawSoup = BeautifulSoup(RawSpaceWeatherResponse)\n",
    "##print(RawSoup.prettify())\n",
    "##Use find() to save the data our salar flares table\n",
    "RawTables = RawSoup.find_all('table')\n",
    "##our table is the first one returned\n",
    "RawTable = RawTables[0]\n",
    "##print(RawTable)\n",
    "##Use pandas to read in the HTML file\n",
    "dfList = pd.read_html(str(RawTable), header=0)\n",
    "##set the dataframe to the first item in the list\n",
    "df = pd.DataFrame(dfList[0])\n",
    "df.columns = ['rank','xClass','date','region','startTime','MaxTime','EndTime','movie']\n",
    "##print(df)\n",
    "\n"
   ]
  },
  {
   "cell_type": "markdown",
   "metadata": {},
   "source": [
    "### Step 2: Tidy the top 50 solar flare data\n",
    "\n",
    "#### Make sure data is in a format pandas can use\n",
    "\n",
    "#### Here I'm just doing data cleanup and formatting."
   ]
  },
  {
   "cell_type": "code",
   "execution_count": 432,
   "metadata": {},
   "outputs": [],
   "source": [
    "##drop movie column from the dataframe\n",
    "newdf = df.drop('movie', axis=1)\n",
    "##print(newdf)\n",
    "##convert any date strings to datetimes\n",
    "for index,row in enumerate(newdf.iterrows()):\n",
    "    ##iterate through rows\n",
    "    TheRow = pd.Series(row[1])\n",
    "    TheDate = TheRow[2]\n",
    "    TheStartDateTime = TheDate + ' ' + TheRow[4]\n",
    "    TheRealStartDateTime = pd.to_datetime(TheStartDateTime)\n",
    "    TheMaxDateTime = TheDate + ' ' + TheRow[5]\n",
    "    TheRealMaxDateTime = pd.to_datetime(TheMaxDateTime)\n",
    "    TheEndDateTime = TheDate + ' ' + TheRow[6]\n",
    "    TheRealEndDateTime = pd.to_datetime(TheEndDateTime)\n",
    "    ##replace the old string dates with datetime dates\n",
    "    newdf.at[index,'startTime'] = TheRealStartDateTime\n",
    "    newdf.at[index,'MaxTime'] = TheRealMaxDateTime\n",
    "    newdf.at[index,'EndTime'] = TheRealEndDateTime\n",
    "##drop the date column\n",
    "newdf2 = newdf.drop('date', axis=1)\n",
    "## no bad values for region..."
   ]
  },
  {
   "cell_type": "code",
   "execution_count": 433,
   "metadata": {},
   "outputs": [],
   "source": [
    "##print(newdf2)"
   ]
  },
  {
   "cell_type": "markdown",
   "metadata": {},
   "source": [
    "## Step 3: Scrape the NASA data\n",
    "\n",
    "#### Here, as before, I'm using requests and beautiful soup to get and parse html data.  I took everything from the 'pre' tag and then used brute force to split this at the long series of =. then had to get rid of items that didn't belong.  Then I made a new dataframe with some columns I'll use later"
   ]
  },
  {
   "cell_type": "code",
   "execution_count": 434,
   "metadata": {
    "scrolled": false
   },
   "outputs": [
    {
     "name": "stdout",
     "output_type": "stream",
     "text": [
      "Number of used records:  443\n",
      "Number of skipped records:  0\n"
     ]
    },
    {
     "name": "stderr",
     "output_type": "stream",
     "text": [
      "C:\\Users\\madag\\Anaconda3\\lib\\site-packages\\bs4\\__init__.py:181: UserWarning: No parser was explicitly specified, so I'm using the best available HTML parser for this system (\"lxml\"). This usually isn't a problem, but if you run this code on another system, or in a different virtual environment, it may use a different parser and behave differently.\n",
      "\n",
      "The code that caused this warning is on line 193 of the file C:\\Users\\madag\\Anaconda3\\lib\\runpy.py. To get rid of this warning, change code that looks like this:\n",
      "\n",
      " BeautifulSoup(YOUR_MARKUP})\n",
      "\n",
      "to this:\n",
      "\n",
      " BeautifulSoup(YOUR_MARKUP, \"lxml\")\n",
      "\n",
      "  markup_type=markup_type))\n"
     ]
    }
   ],
   "source": [
    "##will need re later\n",
    "import re\n",
    "##and numpy too\n",
    "import numpy as np\n",
    "\n",
    "##NasaUrl = 'http://cdaw.gsfc.nasa.gov/CME_list/radio/waves_type2.html'\n",
    "NasaUrl = 'http://www.hcbravo.org/IntroDataSci/misc/waves_type2.html'\n",
    "##get the data\n",
    "NasaResponse = requests.get(NasaUrl)\n",
    "RawNasaResponse = NasaResponse.text\n",
    "\n",
    "##Use BeautifulSoup to read and parse the data\n",
    "RawNasaSoup = BeautifulSoup(RawNasaResponse)\n",
    "##print(RawNasaSoup.prettify())\n",
    "##Use find() to save the data our salar flares table\n",
    "RawNasaData = RawNasaSoup.find_all('pre')\n",
    "##all the data is in the first element of this list\n",
    "##turn it into a string and extract what i need\n",
    "RawStringParts = str(RawNasaData[0]).split('=================================================================================================')\n",
    "##looks like the 3rd index in that list is what I want\n",
    "LongTextString = RawStringParts[2]\n",
    "##print(LongTextString)\n",
    "##use line returns to split up the string into list of what will become rows\n",
    "LongTextStringParts = LongTextString.split('\\n')\n",
    "##just keep the parts of the list that have content\n",
    "LongTextStringParts2 = LongTextStringParts[1:483]\n",
    "##print(LongTextStringParts2)\n",
    "##store the cleaned up data here\n",
    "CleanerData = []\n",
    "for TheString in LongTextStringParts2:\n",
    "    ##to extract the info i need, want to split each string everywhere there is <..>.  need regex\n",
    "    ThePattern = '<.+?>'\n",
    "    SplitString = re.split(ThePattern,TheString)\n",
    "    #print(SplitString)\n",
    "    ##some items contain info for multiple columns with spaces in between.  go through each item and find double,triple\n",
    "    ##spaces and replace with a single splace.  then split the item and make a list of good,clean data\n",
    "    CleanRow = []\n",
    "    for item in SplitString:\n",
    "        ##replace double,triple spaces with a single\n",
    "        item.replace('  ',' ')\n",
    "        item.replace('   ',' ')\n",
    "        itemParts = item.split(' ')\n",
    "        ##print(itemParts)\n",
    "        ##if a part has a length, add it to the good, clean data\n",
    "        ##----------if there is some missing data that fact won't be recorded---------------##\n",
    "        for part in itemParts:\n",
    "            if(len(part) > 0):\n",
    "                CleanRow.append(part)\n",
    "    ##if we have a full row, keep it\n",
    "    if(len(CleanRow) == 15):\n",
    "        CleanerData.append(CleanRow)\n",
    "        ##print(CleanRow)\n",
    "    ##for some data quality checking, print any rows of length<15.  handle missing data if necessary\n",
    "    MissCount = 0\n",
    "    if(len(CleanRow) < 15):\n",
    "        MissCount = MissCount + 1\n",
    "        print(CleanRow)\n",
    "print('Number of used records: ',len(CleanerData))\n",
    "print('Number of skipped records: ',MissCount)\n",
    "\n",
    "##make a pandas dataframe for all this info\n",
    "##first make list of column names\n",
    "NasaFields = ['startDate','startTime','endDate','endTime','startFreq','endFreq','sourceLoc','NoaaReg','FlareImp','cmeDate','cmeTime','cpAngle','cmeWidth','cmeSpeed','plot']\n",
    "RawNasaDf = pd.DataFrame.from_records(CleanerData,columns=NasaFields)\n",
    "##later will need a field to know if a cmeWidth is a lower limit, default value is 0\n",
    "zeroArray = np.zeros((len(CleanerData),), dtype=np.int)\n",
    "##convert zeroArray to a list and add it to the data frame\n",
    "RawNasaDf['isLowerLimit'] = zeroArray.tolist()\n",
    "##also add empty columns for startDateTime,endDateTime,cmeDateTime\n",
    "RawNasaDf['startDateTime'] = np.nan\n",
    "RawNasaDf['endDateTime'] = np.nan\n",
    "RawNasaDf['cmeDateTime'] = np.nan\n",
    "##print(RawNasaDf)"
   ]
  },
  {
   "cell_type": "markdown",
   "metadata": {},
   "source": [
    "## Step 4: Tidy the NASA table\n",
    "\n",
    "#### Nasa missing data placeholders:\n",
    "    startFreq,endFreq ???? \n",
    "    NoaaReg,sourceLoc,FlareImp ----\n",
    "    cmeDate “LASCO DATA GAP” or other unspecified things\n",
    "    cpAngle \"Halo\"\n",
    "    cmeWidth Width = 360 means CME is a fill halo. sometimes there is “>” prefixed, which means reported width is a lower limit.\n",
    "#### Combine date and time fields\n",
    "\n",
    "#### Here I'm replacing bad/no data with NaN's or something similar and formatting data types"
   ]
  },
  {
   "cell_type": "code",
   "execution_count": 435,
   "metadata": {},
   "outputs": [
    {
     "name": "stdout",
     "output_type": "stream",
     "text": [
      "this won't cast to date time:  2014/--/-- --:--\n"
     ]
    }
   ],
   "source": [
    "##clean this data\n",
    "for index,row in enumerate(RawNasaDf.iterrows()):\n",
    "    ##get the row as a pandas series\n",
    "    TheRow = pd.Series(row[1])\n",
    "    ##check the cpAngle value. if 'Halo' change to NA\n",
    "    if(TheRow['cpAngle'] == 'Halo'):\n",
    "        ##update the value\n",
    "        RawNasaDf.at[index,'cpAngle'] = 'NA'\n",
    "    ##now update row value with 'NaN' if value is not an int\n",
    "    try:\n",
    "        ##if value can be an int, keep it\n",
    "        int(TheRow['NoaaReg'])\n",
    "    except:\n",
    "        ##if value can't be cast to int, replace with NaN\n",
    "        RawNasaDf.at[index,'NoaaReg'] = 'NaN'\n",
    "    ##do FlareImp\n",
    "    if(TheRow['FlareImp'] == '----'):\n",
    "        ##update the value\n",
    "        RawNasaDf.at[index,'FlareImp'] = 'NaN'\n",
    "    ##do sourceLoc\n",
    "    if(TheRow['sourceLoc'] == 'BACK' or TheRow['FlareImp'] == 'Back' or TheRow['FlareImp'] == 'Back?'):\n",
    "        ##update the value\n",
    "        RawNasaDf.at[index,'sourceLoc'] = 'NaN'\n",
    "    ##do startFreq\n",
    "    if(TheRow['startFreq'] == '????'):\n",
    "        ##update the value\n",
    "        RawNasaDf.at[index,'startFreq'] = 'NaN'\n",
    "    ##do endFreq\n",
    "    if(TheRow['endFreq'] == '????'):\n",
    "        ##update the value\n",
    "        RawNasaDf.at[index,'endFreq'] = 'NaN'\n",
    "    ##do cmeWidth\n",
    "    ##here &gt; means >.  any value that can be split is a lower limit\n",
    "    ##other values have non-numeric characters, also --- for NaN\n",
    "    try:\n",
    "        ##if value can be an int, keep it\n",
    "        int(TheRow['cmeWidth'])\n",
    "    except:\n",
    "        ##if value can't be cast to int, see what kind of value it is and update it appropriately\n",
    "        if(TheRow['cmeWidth'] == '---'):\n",
    "            RawNasaDf.at[index,'cmeWidth'] = 'NaN'\n",
    "        elif(TheRow['cmeWidth'].isdigit() == False):\n",
    "            ##test for the >,update isLowerLimit if necessary\n",
    "            if(len(TheRow['cmeWidth'].split(';')) > 1):\n",
    "                WidthParts = TheRow['cmeWidth'].split(';')\n",
    "                RawNasaDf.at[index,'isLowerLimit'] = 1\n",
    "                RawNasaDf.at[index,'cmeWidth'] = WidthParts[1]\n",
    "            elif(len(TheRow['cmeWidth'].split(';')) == 1):\n",
    "                justInts = ''\n",
    "                for character in TheRow['cmeWidth']:\n",
    "                    if(WidthParts[0].isdigit()):\n",
    "                        justInts = justInts + WidthParts[0]\n",
    "                RawNasaDf.at[index,'cmeWidth'] = justInts\n",
    "            else:\n",
    "                print('I have not seen this before',TheRow['cmeWidth'])\n",
    "        else:\n",
    "            print('Don\\'t know what to do with this',TheRow['cmeWidth'])\n",
    "    ##now add in the the various combined datetime stamps\n",
    "    ##lots of 24:00 values.  change to 00:00 before casting to datetime\n",
    "    if(TheRow['startTime'] == '24:00'):\n",
    "        startTime = '00:00'\n",
    "    else:\n",
    "        startTime = TheRow['startTime']\n",
    "    StartDateTime = TheRow['startDate'] + ' ' + startTime\n",
    "    ##the rest of the dates don\\'t have a year, so have to append the year from here\n",
    "    startDateParts = TheRow['startDate'].split('/')\n",
    "    TheYear = startDateParts[0]\n",
    "    ##print(TheYear)\n",
    "    try:\n",
    "        RealStartDateTime = pd.to_datetime(StartDateTime)\n",
    "         ##assign to proper spot\n",
    "        RawNasaDf.at[index,'startDateTime'] = RealStartDateTime\n",
    "    except:\n",
    "        print('this won\\'t cast to date time: ',StartDateTime)\n",
    "    \n",
    "    ##lots of 24:00 values.  change to 00:00 before casting to datetime\n",
    "    if(TheRow['cmeTime'] == '24:00'):\n",
    "        cmeTime = '00:00'\n",
    "    else:\n",
    "        cmeTime = TheRow['cmeTime']\n",
    "        \n",
    "    CmeDateTime = TheYear + '/' + TheRow['cmeDate'] + ' ' + cmeTime\n",
    "    try:\n",
    "        RealCmeDateTime = pd.to_datetime(CmeDateTime)\n",
    "         ##assign to proper spot\n",
    "        RawNasaDf.at[index,'cmeDateTime'] = RealCmeDateTime\n",
    "    except:\n",
    "         print('this won\\'t cast to date time: ',CmeDateTime) \n",
    "    \n",
    "    ##lots of 24:00 values.  change to 00:00 before casting to datetime\n",
    "    if(TheRow['endTime'] == '24:00'):\n",
    "        endTime = '00:00'\n",
    "    else:\n",
    "        endTime = TheRow['endTime']\n",
    "    EndDateTime = TheYear + '/' + TheRow['endDate'] + ' ' + endTime\n",
    "    try:\n",
    "        RealEndDateTime = pd.to_datetime(EndDateTime)\n",
    "        ##assign to proper spot\n",
    "        RawNasaDf.at[index,'endDateTime'] = RealEndDateTime\n",
    "    except:\n",
    "        print('this won\\'t cast to date time: ',EndDateTime) \n",
    "                \n",
    "##print(RawNasaDf)"
   ]
  },
  {
   "cell_type": "markdown",
   "metadata": {},
   "source": [
    "## Part 2: Analysis\n",
    "\n",
    "### Replicate the top 50 solar flare table in SpaceWeatherLive.com exactly using the data obtained from NASA\n",
    "\n",
    "#### According to Wikipedia (https://en.wikipedia.org/wiki/Solar_flare#Classification), solar flares can be ranked by their peak flux (watts per square meter) in the 100-800 picometer portion of the EM spectrum.\n",
    "\n",
    "To attempt to replicate the table at SpaceWeatherLive.com, I'll rank the solar flares according to the 'Imp' column from the nasa website (http://cdaw.gsfc.nasa.gov/CME_list/radio/waves_type2.html)\n",
    "\n",
    "#### Here I check the flare classification and use it to rank and sort the flares"
   ]
  },
  {
   "cell_type": "code",
   "execution_count": 436,
   "metadata": {
    "scrolled": true
   },
   "outputs": [],
   "source": [
    "##rank some data\n",
    "##will use pandas.DataFrame.sort_values.  need two columns for sorting one for letter, one for number in 'FlareImp'\n",
    "RawNasaDf['FlareImpLetter'] = 'NaN'\n",
    "##print(RawNasaDf['FlareImpLetter'])\n",
    "RawNasaDf['FlareImpNumber'] = np.nan\n",
    "for index,row in enumerate(RawNasaDf.iterrows()):\n",
    "    ##get the row as a pandas series\n",
    "    TheRow = pd.Series(row[1])\n",
    "    ##isolate the appropriate column\n",
    "    TheRating = TheRow['FlareImp']\n",
    "    ##check to see if there is a value to check\n",
    "    if(TheRating[0] == 'A' or TheRating[0] == 'B' or TheRating[0] == 'C' or TheRating[0] == 'M' or TheRating[0] == 'X'):\n",
    "        ImpLetter = TheRating[0]\n",
    "        ImpNumber = TheRating[1:4]\n",
    "        ##print(ImpNumber)\n",
    "        ##assign to proper spots\n",
    "        RawNasaDf.at[index,'FlareImpLetter'] = ImpLetter\n",
    "        RawNasaDf.at[index,'FlareImpNumber'] = str(ImpNumber)\n",
    "WholeSortedNasaDf = RawNasaDf.sort_values(by=['FlareImpLetter', 'FlareImpNumber'],ascending=False)\n",
    "##WholeDateSortedNasaDf = RawNasaDf.sort_values(by=['startDate'],ascending=False)\n",
    "SortedNasaDf = WholeSortedNasaDf[0:50]\n",
    "##print(SortedNasaDf)\n",
    "##DateSortedNasaDf = SortedNasaDf.sort_values(by=['startDate'],ascending=False)"
   ]
  },
  {
   "cell_type": "markdown",
   "metadata": {},
   "source": [
    "### Write a function that finds the best matching row in the NASA data for each of the top 50 solar flares in the SpaceWeatherLive data.\n",
    "\n",
    "#### I'll look at the top 50 from each dataset.  They won't all match, so giving each row in the nasa dataset a ranking would be misleading for anyone looking at these results.  Based on my analysis(completed in October 2017), the two data sets have 18 unique start dates that only appear in one data set or the other.  \n",
    "\n",
    "#### I'll create keys for each data set to uniquely identify each row.  I'll do a long key(start day,region,full flare importance classification) that corresponds to a high confidence match.  I'll do a short key(start day, numeric portion of the flare importance classification) for likely matches.  When the keys match I'll put a space weather rank in the nasa data. \n",
    "\n",
    "#### First I'll insert ranks based on the short key.  Then I'll do the same with the long key.  If no match, the column will be None."
   ]
  },
  {
   "cell_type": "code",
   "execution_count": 437,
   "metadata": {},
   "outputs": [
    {
     "name": "stdout",
     "output_type": "stream",
     "text": [
      "There are 46 unique dates in the Nasa data\n",
      "There are  47 unique dates in the space weather data\n",
      "The two data sets share 28 unique start dates\n",
      "The two data sets have 18 unique start dates that only appear in one data set or the other.\n"
     ]
    },
    {
     "name": "stderr",
     "output_type": "stream",
     "text": [
      "C:\\Users\\madag\\Anaconda3\\lib\\site-packages\\ipykernel_launcher.py:71: SettingWithCopyWarning: \n",
      "A value is trying to be set on a copy of a slice from a DataFrame.\n",
      "Try using .loc[row_indexer,col_indexer] = value instead\n",
      "\n",
      "See the caveats in the documentation: http://pandas.pydata.org/pandas-docs/stable/indexing.html#indexing-view-versus-copy\n"
     ]
    }
   ],
   "source": [
    "##give space weather data frame a more useful name\n",
    "SpaceWeatherDf = newdf2\n",
    "##add another column to the SortedNasaDf for the space weather rank\n",
    "##SortedNasaDf['SpaceWeatherRank'] = np.nan\n",
    "RankValues = [None] * 50\n",
    "\n",
    "##print(SortedNasaDf)\n",
    "##look for matches\n",
    "##keep hits in these sets\n",
    "LongKeySet = set()\n",
    "ShortKeySet = set()\n",
    "NasaDateSet = set()\n",
    "SpaceWeatherDateSet = set()\n",
    "\n",
    "##for each row in the nasa data look through the space weather data for a match\n",
    "for index,row in enumerate(SortedNasaDf.iterrows()):\n",
    "    ##get the row as a pandas series\n",
    "    TheRow = pd.Series(row[1])\n",
    "    ##print(TheRow['startDate'])\n",
    "    ##print('at row ' + str(index))\n",
    "    ##get the start date,region,FlareImpLetter,FlareImpNumber\n",
    "    TheDay = str(TheRow['startDateTime'])[0:10]\n",
    "    NasaDateSet.add(TheDay)\n",
    "    TheRegion = TheRow['NoaaReg']##make sure to get region in format to match space weather\n",
    "    if(len(TheRegion) == 5):\n",
    "        TheRegion = TheRow['NoaaReg'][2:5]\n",
    "    TheImpLetter = TheRow['FlareImpLetter']\n",
    "    TheImpNumber = TheRow['FlareImpNumber']\n",
    "    NasaKey = TheDay + '_' + str(TheRegion) + '_' + TheImpLetter + '_' + str(TheImpNumber)[0:4]\n",
    "    NasaShortKey = TheDay + '_' + str(TheImpNumber)[0:4]\n",
    "    \n",
    "    ##now go through space weather data and check for matches\n",
    "    for SwIndex,SwRow in enumerate(SpaceWeatherDf.iterrows()):\n",
    "        ##get the row as a pandas series\n",
    "        TheSwRow = pd.Series(SwRow[1])\n",
    "        ##get things for comparing\n",
    "        TheSwDay = str(TheSwRow['startTime'])[0:10]\n",
    "        ##add to the appropriate set\n",
    "        SpaceWeatherDateSet.add(TheSwDay)\n",
    "        TheSwRegion = TheSwRow['region']\n",
    "        TheSwImpLetter = TheSwRow['xClass'][0]\n",
    "        TheSwImpNumber = TheSwRow['xClass'][1:5]\n",
    "        SwKey = TheSwDay + '_' + str(TheSwRegion) + '_' + TheSwImpLetter + '_' + str(TheSwImpNumber)[0:4]\n",
    "        SwShortKey = TheSwDay + '_' + str(TheSwImpNumber)[0:4]\n",
    "        \n",
    "        ##use short key to update\n",
    "        if(NasaShortKey == SwShortKey):\n",
    "            ##add to the appropriate set\n",
    "            ShortKeySet.add(SwShortKey)\n",
    "            ##SortedNasaDf.at[index,'SpaceWeatherRank'] = TheSwRow['rank']\n",
    "            ##print('short key update at ' + str(index))\n",
    "            RankValues[index] = (str(TheSwRow['rank']))\n",
    "        ##if the long key matches, use it instead\n",
    "        if(NasaKey == SwKey):\n",
    "            ##add to the appropriate set\n",
    "            LongKeySet.add(SwKey)\n",
    "            ##SortedNasaDf.at[index,'SpaceWeatherRank'] = TheSwRow['rank']\n",
    "            ##print('long key update at ' + str(index))\n",
    "            RankValues[index] = (str(TheSwRow['rank']))\n",
    "\n",
    "##see if there is really any hope in matching all 50 based on event start dates\n",
    "print('There are ' + str(len(NasaDateSet)) + ' unique dates in the Nasa data')\n",
    "print('There are  ' + str(len(SpaceWeatherDateSet)) + ' unique dates in the space weather data')\n",
    "print('The two data sets share ' + str(len(NasaDateSet&SpaceWeatherDateSet)) + ' unique start dates')\n",
    "print('The two data sets have ' + str(len(NasaDateSet-SpaceWeatherDateSet)) + ' unique start dates that only appear in one data set or the other.')\n",
    "\n",
    "##SortedRankedNasaDf = SortedNasaDf.sort_values(by=['SpaceWeatherRank'],ascending=True)\n",
    "##print(SortedRankedNasaDf)\n",
    "##print(RankValues)\n",
    "##add the ranks for rows that have them\n",
    "SortedNasaDf['SpaceWeatherRank'] = RankValues\n",
    "##print(SortedNasaDf)"
   ]
  },
  {
   "cell_type": "markdown",
   "metadata": {},
   "source": [
    "## Prepare one plot that shows the top 50 solar flares in context with all data available in the NASA dataset\n",
    "\n",
    "#### I made a time series of count of flares per month showing top 50 flares.  It does seem to show clusters of significant events.  Periods of time with increased activity stands out."
   ]
  },
  {
   "cell_type": "code",
   "execution_count": 439,
   "metadata": {},
   "outputs": [
    {
     "data": {
      "image/png": "[encoded data removed]",
      "text/plain": [
       "<matplotlib.figure.Figure at 0x23987ea0780>"
      ]
     },
     "metadata": {},
     "output_type": "display_data"
    }
   ],
   "source": [
    "import matplotlib.patches as mpatches\n",
    "import matplotlib.pyplot as plt\n",
    "\n",
    "##df for plotting\n",
    "PlotDf = SortedNasaDf[['startDateTime','FlareImpNumber']].copy()\n",
    "##print(PlotDf)\n",
    "PlotDf.index = PlotDf['startDateTime']\n",
    "del PlotDf['startDateTime']\n",
    "##print(PlotDf)\n",
    "PlotDf.resample('M').count().plot(legend=None)\n",
    "plt.ylabel('Count')\n",
    "plt.xlabel('Flare Start Date')\n",
    "plt.title('Time Series - Top 50 Flares')\n",
    "plt.show()"
   ]
  },
  {
   "cell_type": "code",
   "execution_count": null,
   "metadata": {
    "collapsed": true
   },
   "outputs": [],
   "source": []
  },
  {
   "cell_type": "code",
   "execution_count": null,
   "metadata": {
    "collapsed": true
   },
   "outputs": [],
   "source": []
  }
 ],
 "metadata": {
  "kernelspec": {
   "display_name": "Python 3",
   "language": "python",
   "name": "python3"
  },
  "language_info": {
   "codemirror_mode": {
    "name": "ipython",
    "version": 3
   },
   "file_extension": ".py",
   "mimetype": "text/x-python",
   "name": "python",
   "nbconvert_exporter": "python",
   "pygments_lexer": "ipython3",
   "version": "3.6.1"
  }
 },
 "nbformat": 4,
 "nbformat_minor": 2
}
